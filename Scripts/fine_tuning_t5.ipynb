{
  "cells": [
    {
      "cell_type": "code",
      "execution_count": null,
      "metadata": {
        "id": "Ce45LKmn51Ih"
      },
      "outputs": [],
      "source": [
        "from IPython.display import clear_output\n",
        "\n",
        "!pip install seqio==0.0.7\n",
        "!pip install t5==0.9.3\n",
        "!pip install tensorflow-text==2.12.0\n",
        "\n",
        "!pip install -U jax jaxlib\n",
        "!pip install -U flax\n",
        "\n",
        "\n",
        "clear_output()"
      ]
    },
    {
      "cell_type": "code",
      "execution_count": null,
      "metadata": {
        "id": "2h1MRzBLtex2"
      },
      "outputs": [],
      "source": [
        "import functools\n",
        "import os\n",
        "import gin\n",
        "import tensorflow_gcs_config\n",
        "from google.colab import auth\n",
        "import tensorflow.compat.v1 as tf\n",
        "import tensorflow_datasets as tfds\n",
        "from contextlib import contextmanager\n",
        "import logging as py_logging\n",
        "import t5\n",
        "\n",
        "#Set the base dir(Google cloud bucket)\n",
        "BASE_DIR = \"gs://finetuning-ag-row\"\n",
        "\n",
        "# Set credentials for GCS reading/writing from Colab and TPU.\n",
        "TPU_TOPOLOGY = \"2x2\"\n",
        "try:\n",
        "  tpu = tf.distribute.cluster_resolver.TPUClusterResolver()  # TPU detection\n",
        "  TPU_ADDRESS = tpu.get_master()\n",
        "  print('Running on TPU:', TPU_ADDRESS)\n",
        "except ValueError:\n",
        "  raise BaseException('ERROR: Not connected to a TPU runtime; please see the previous cell in this notebook for instructions!')\n",
        "\n",
        "auth.authenticate_service_account()\n",
        "tf.config.experimental_connect_to_host(TPU_ADDRESS)\n",
        "tensorflow_gcs_config.configure_gcs_from_colab_auth()\n",
        "\n",
        "tf.disable_v2_behavior()\n",
        "\n",
        "\n",
        "#LOGGING\n",
        "tf.get_logger().propagate = False\n",
        "py_logging.root.setLevel('INFO')\n",
        "\n",
        "@contextmanager\n",
        "def tf_verbosity_level(level):\n",
        "  og_level = tf.logging.get_verbosity()\n",
        "  tf.logging.set_verbosity(level)\n",
        "  yield\n",
        "  tf.logging.set_verbosity(og_level)"
      ]
    },
    {
      "cell_type": "code",
      "execution_count": null,
      "metadata": {
        "id": "glLJUm1dxIiH"
      },
      "outputs": [],
      "source": [
        "from t5.data import postprocessors as t5_postprocessors\n",
        "from t5.seqio import Feature,SentencePieceVocabulary\n",
        "\n",
        "\n",
        "vocab_model_path = 'gs://finetuning-ag-row/dl4se_vocab.model'\n",
        "vocab_path = 'gs://finetuning-ag-row/dl4se_vocab.vocab'\n",
        "\n",
        "\n",
        "TaskRegistry = t5.data.TaskRegistry\n",
        "TfdsTask = t5.data.TfdsTask\n",
        "\n",
        "\n",
        "def get_default_vocabulary():\n",
        "  return SentencePieceVocabulary(vocab_model_path, 100)\n",
        "\n",
        "DEFAULT_OUTPUT_FEATURES = {\n",
        "    \"inputs\": Feature(\n",
        "        vocabulary=get_default_vocabulary(), add_eos=True, required=False),\n",
        "\n",
        "    \"targets\": Feature(\n",
        "        vocabulary=get_default_vocabulary(), add_eos=True)\n",
        "}"
      ]
    },
    {
      "cell_type": "code",
      "execution_count": null,
      "metadata": {
        "id": "9Ei8FQGbWJIW"
      },
      "outputs": [],
      "source": [
        "# Dataset sizes:\n",
        "#   - training: 138478\n",
        "#   - eval:     17377\n",
        "#   - test:     17318\n",
        "\n",
        "DATA_DIR_1 = os.path.join(BASE_DIR, \"T5-Data/2-TS-null\")\n",
        "\n",
        "nq_tsv_path_assert_raw = {\n",
        "    \"train\": os.path.join(DATA_DIR_1, \"training.tsv\"),\n",
        "    \"validation\": os.path.join(DATA_DIR_1, \"test.tsv\"),\n",
        "}\n",
        "\n",
        "#num_nq_examples_assert_raw = dict(train=150523, validation=18815)\n",
        "#num_nq_examples_assert_raw = dict(train=138478, validation=17318)"
      ]
    },
    {
      "cell_type": "code",
      "execution_count": null,
      "metadata": {
        "colab": {
          "base_uri": "https://localhost:8080/"
        },
        "id": "wNkdyts6cYTq",
        "outputId": "a15aac17-b9e7-4ecd-e74e-0fbf3da668b3"
      },
      "outputs": [
        {
          "output_type": "stream",
          "name": "stdout",
          "text": [
            "A few raw valid examples...\n",
            "{'method': b'\"testGetLibrariesDoesDeDuplication ( ) { when ( design . getContentResource ( ) ) . thenReturn ( designContentResource ) ; setLibraries ( designContentResource , PageRegion . HEAD , new java . lang . String [ ] { \"\"css1\"\" , \"\"cssandjs1\"\" } , new java . lang . String [ ] { \"\"js1\"\" , \"\"cssandjs1\"\" } ) ; java . lang . String [ ] categories = instance . getLibraries ( design , PageRegion . HEAD ) ; \"\"<AssertPlaceHolder>\"\" ; }\"', 'assert': b'org . junit . Assert . assertArrayEquals ( new java . lang . Object [ ] { \"\"css1\"\" , \"\"cssandjs1\"\" , \"\"js1\"\" } , categories )'}\n",
            "{'method': b'\"getUsersWaitingNotificationNoWatchExpectEmptyList ( ) { net . jforum . repository . TopicWatchRepository dao = this . newDao ( ) ; net . jforum . entities . Topic topic = new net . jforum . entities . Topic ( ) ; topic . setId ( 13 ) ; java . util . List < net . jforum . entities . User > users = dao . getUsersWaitingNotification ( topic ) ; \"\"<AssertPlaceHolder>\"\" ; }\"', 'assert': b'org . junit . Assert . assertEquals ( 0 , users . size ( ) )'}\n",
            "{'method': b'\"testCreatorNull ( ) { de . sstoehr . harreader . model . HarLog log = new de . sstoehr . harreader . model . HarLog ( ) ; log . setCreator ( null ) ; \"\"<AssertPlaceHolder>\"\" ; }\"', 'assert': b'org . junit . Assert . assertNotNull ( log . getCreator ( ) )'}\n",
            "{'method': b'\"shouldCorrectlyCalculateMutationsCoverageWhenAllMutationsDetected ( ) { this . testee . addMutations ( 100 ) ; this . testee . addMutationsDetetcted ( 100 ) ; \"\"<AssertPlaceHolder>\"\" ; }\"', 'assert': b'org . junit . Assert . assertEquals ( 100 , this . testee . getMutationCoverage ( ) )'}\n",
            "{'method': b'\"testBadIssuer ( ) { java . security . PrivateKey privateKey ; try ( java . io . InputStream is = org . apache . kerby . kerberos . kdc . TokenKdcTestBase . class . getResourceAsStream ( \"\"/private_key.pem\"\" ) ) { privateKey = org . apache . kerby . kerberos . kerb . common . PrivateKeyReader . loadPrivateKey ( is ) ; } prepareToken ( getServerPrincipal ( ) , \"\"oauth1.com\"\" , privateKey , null ) ; try { performTest ( ) ; org . junit . Assert . fail ( \"\"Failure<sp>expected<sp>on<sp>a<sp>bad<sp>issuer<sp>value\"\" ) ; } catch ( java . lang . Exception ex ) { \"\"<AssertPlaceHolder>\"\" ; } }\"', 'assert': b'org . junit . Assert . assertTrue ( ( ex instanceof org . apache . kerby . kerberos . kerb . KrbException ) )'}\n"
          ]
        }
      ],
      "source": [
        "def nq_dataset_assert_raw(split, shuffle_files=False):\n",
        "  del shuffle_files\n",
        "\n",
        "  # Load lines from the text file as examples.\n",
        "  ds = tf.data.TextLineDataset(nq_tsv_path_assert_raw[split])\n",
        "  ds = ds.map(\n",
        "      functools.partial(tf.io.decode_csv, record_defaults=[\"string\",\"string\"],\n",
        "                        field_delim=\"\\t\", use_quote_delim=False),\n",
        "      num_parallel_calls=tf.data.experimental.AUTOTUNE)\n",
        "\n",
        "  ds = ds.map(lambda *ex: dict(zip([\"method\", \"assert\"], ex)))\n",
        "  return ds\n",
        "\n",
        "print(\"A few raw valid examples...\")\n",
        "for idx,ex in enumerate(tfds.as_numpy(nq_dataset_assert_raw(\"validation\").take(5))):\n",
        "  print(ex)"
      ]
    },
    {
      "cell_type": "code",
      "execution_count": null,
      "metadata": {
        "id": "FIIjz6DKtdsk"
      },
      "outputs": [],
      "source": [
        "def atlas_preprocessing_raw(ds):\n",
        "\n",
        "  def to_inputs_and_targets(ex):\n",
        "\n",
        "        x_input = tf.strings.lower(ex['method'])\n",
        "        y_label = tf.strings.lower(ex['assert'])\n",
        "        inputs = tf.strings.join(['generate raw assert:' + x_input], separator=' ')\n",
        "        class_label = tf.strings.join([y_label], separator=' ')\n",
        "        return {'inputs': inputs, 'targets': class_label }\n",
        "\n",
        "  return ds.map(to_inputs_and_targets,\n",
        "                num_parallel_calls=tf.data.experimental.AUTOTUNE)"
      ]
    },
    {
      "cell_type": "code",
      "execution_count": null,
      "metadata": {
        "id": "VBMenVfoWJn_"
      },
      "outputs": [],
      "source": [
        "TaskRegistry = t5.data.TaskRegistry\n",
        "TfdsTask = t5.data.TfdsTask\n",
        "\n",
        "ASSERT_TYPE='raw'\n",
        "\n",
        "t5.data.TaskRegistry.remove('assert_raw')\n",
        "t5.data.TaskRegistry.add(\n",
        "    \"assert_raw\",\n",
        "    dataset_fn=nq_dataset_assert_raw,\n",
        "    splits=[\"train\", \"validation\"],\n",
        "    #sequence_length = [{\"inputs\": 512, \"targets\": 512},{\"inputs\": 512, \"targets\": 512}],\n",
        "    text_preprocessor=atlas_preprocessing_raw,\n",
        "    output_features=DEFAULT_OUTPUT_FEATURES,\n",
        "    metric_fns=[t5.evaluation.metrics.accuracy]\n",
        ")\n"
      ]
    },
    {
      "cell_type": "code",
      "execution_count": null,
      "metadata": {
        "id": "eImeqEV5WJif"
      },
      "outputs": [],
      "source": [
        "nq_task = t5.data.TaskRegistry.get(\"assert_raw\")\n",
        "ds = nq_task.get_dataset(split=\"train\", sequence_length={\"inputs\": 512, \"targets\": 512})\n",
        "ds1 = nq_task.get_dataset(split=\"validation\", sequence_length={\"inputs\": 512, \"targets\": 512})\n",
        "print(\"A few preprocessed training examples...\")\n",
        "for ex in tfds.as_numpy(ds.take(5)):\n",
        "  print(ex)\n",
        "\n",
        "\n",
        "clear_output()"
      ]
    },
    {
      "cell_type": "code",
      "execution_count": null,
      "metadata": {
        "id": "WB1lummg43hc"
      },
      "outputs": [],
      "source": [
        "FLAGS = tf.app.flags.FLAGS\n",
        "tf.app.flags.DEFINE_string('f','','kernel')"
      ]
    },
    {
      "cell_type": "code",
      "execution_count": null,
      "metadata": {
        "id": "_3Qx699vN302"
      },
      "outputs": [],
      "source": [
        "from mesh_tensorflow.transformer.learning_rate_schedules import learning_rate_schedule_noam\n",
        "from t5 import models\n",
        "\n",
        "MODEL_SIZE = \"small\"\n",
        "\n",
        "MODEL_DIR = 'gs://finetuning-ag-row/pre-trained-null'\n",
        "\n",
        "model_parallelism, train_batch_size, keep_checkpoint_max = {\n",
        "    \"small\": (1, 128, 16),\n",
        "    \"base\": (2, 16, 8),\n",
        "    \"large\": (8, 64, 4),\n",
        "    \"3B\": (8, 16, 1),\n",
        "    \"11B\": (8, 16, 1)}[MODEL_SIZE]\n",
        "\n",
        "tf.io.gfile.makedirs(MODEL_DIR)\n",
        "\n",
        "model = models.mtf_model.MtfModel(\n",
        "    model_dir=MODEL_DIR,\n",
        "    tpu=TPU_ADDRESS,\n",
        "    tpu_topology=TPU_TOPOLOGY,\n",
        "    model_parallelism=model_parallelism,\n",
        "    batch_size=train_batch_size,\n",
        "    learning_rate_schedule = learning_rate_schedule_noam,\n",
        "    sequence_length={\"inputs\": 512, \"targets\": 512},\n",
        "    save_checkpoints_steps=10000,\n",
        "    keep_checkpoint_max=keep_checkpoint_max,\n",
        "    iterations_per_loop=100\n",
        ")"
      ]
    },
    {
      "cell_type": "code",
      "execution_count": null,
      "metadata": {
        "id": "ZVifeIHfdqgO"
      },
      "outputs": [],
      "source": [
        "PATH_GIN_FILE = '/content/operative_config.gin'\n",
        "import gin\n",
        "\n",
        "with gin.unlock_config():\n",
        "  gin.parse_config_file(PATH_GIN_FILE)\n",
        "  FINETUNE_STEPS = 449900\n",
        "\n",
        "  model.train(\n",
        "      \"assert_raw\",\n",
        "      #pretrained_model_dir=MODEL_DIR,\n",
        "      FINETUNE_STEPS\n",
        "  )\n",
        "\n",
        "\n",
        "# Use a larger batch size for evaluation, which requires less memory.\n",
        "PATH_GIN_FILE = '/content/operative_config.gin'\n",
        "import gin\n",
        "import time\n",
        "\n",
        "with gin.unlock_config():\n",
        "  gin.parse_config_file(PATH_GIN_FILE)\n",
        "  #FINETUNE_STEPS = 470176\n",
        "  model.batch_size = 128\n",
        "  #model.sequence_length = {\"inputs\": 512, \"targets\": 512}\n",
        "  s_t = time.time()\n",
        "  model.eval(\n",
        "    mixture_or_task_name= \"assert_raw\",\n",
        "    checkpoint_steps=-1,\n",
        "    compute_sequence_length=False)\n",
        "  e_t = time.time()\n",
        "  print(\"infer time: %s s\" % (e_t-s_t))\n",
        "\n",
        "\n",
        "### After the eval phase is completed, we extract only the predictions related to CS and MG task.\n",
        "### For all the other tasks, we found out that the beam search implemented in HUGGINGFACE works better compared to the one implemented in TF"
      ]
    },
    {
      "cell_type": "code",
      "execution_count": null,
      "metadata": {
        "id": "NAo_rui4HXcT"
      },
      "outputs": [],
      "source": [
        "# Use a larger batch size for evaluation, which requires less memory.\n",
        "PATH_GIN_FILE = '/content/operative_config.gin'\n",
        "import gin\n",
        "import time\n",
        "\n",
        "with gin.unlock_config():\n",
        "  gin.parse_config_file(PATH_GIN_FILE)\n",
        "  #FINETUNE_STEPS = 470176\n",
        "  model.batch_size = 128\n",
        "  #model.sequence_length = {\"inputs\": 512, \"targets\": 512}\n",
        "  s_t = time.time()\n",
        "  model.eval(\n",
        "    mixture_or_task_name= \"assert_raw\",\n",
        "    checkpoint_steps=-1,\n",
        "    compute_sequence_length=False)\n",
        "  e_t = time.time()\n",
        "  print(\"infer time: %s s\" % (e_t-s_t))\n",
        "\n",
        "\n",
        "### After the eval phase is completed, we extract only the predictions related to CS and MG task.\n",
        "### For all the other tasks, we found out that the beam search implemented in HUGGINGFACE works better compared to the one implemented in TF"
      ]
    },
    {
      "cell_type": "code",
      "execution_count": null,
      "metadata": {
        "id": "8nB_W5Te7ETz"
      },
      "outputs": [],
      "source": [
        "### Use this cell if the eval procedure above fails\n",
        "\n",
        "from google.cloud import storage\n",
        "import time\n",
        "\n",
        "base_validation_path = 'gs://finetuning-ag-row/pre-trained-combine/validation_eval'\n",
        "\n",
        "\n",
        "# Make sure that in base_validation_path the following are present\n",
        "input_files = ['assert_raw_inputs']\n",
        "output_files = ['assert_raw_targets']\n",
        "\n",
        "for input_file, output_file in zip(input_files, output_files):\n",
        "\n",
        "  s_t = time.time()\n",
        "  model.predict(os.path.join(base_validation_path,input_file),\n",
        "                os.path.join(base_validation_path,output_file),\n",
        "                checkpoint_steps=-1,\n",
        "                beam_size=1,\n",
        "                temperature=1.0,\n",
        "                vocabulary=SentencePieceVocabulary(\n",
        "                          vocab_model_path, 100))\n",
        "  e_t = time.time()\n",
        "  print(\"infer time: %s s\" % (e_t-s_t))\n",
        "\n",
        "\n",
        "accuracy_only_task_real = ['assert_raw_targets']\n",
        "accuracy_only_task_predictions = ['assert_raw_targets-449900']\n",
        "\n",
        "\n",
        "for target, pred in zip(accuracy_only_task_real, accuracy_only_task_predictions):\n",
        "\n",
        "  target_list = []\n",
        "  with tf.io.gfile.GFile(os.path.join(base_validation_path,target)) as preds:\n",
        "    for item in preds:\n",
        "\n",
        "      item = item.strip()\n",
        "\n",
        "      if item[0]=='\"':\n",
        "        item = item[1:]\n",
        "\n",
        "      if item[-1]=='\"':\n",
        "        item = item[0:-1]\n",
        "\n",
        "      target_list.append(item)\n",
        "\n",
        "  # print(len(target_list))\n",
        "\n",
        "\n",
        "  pred_list = []\n",
        "  with tf.io.gfile.GFile(os.path.join(base_validation_path,pred)) as preds:\n",
        "    for item in preds:\n",
        "\n",
        "      item = item.strip()\n",
        "\n",
        "      if item[0]=='\"':\n",
        "        item = item[1:]\n",
        "\n",
        "      if item[-1]=='\"':\n",
        "        item = item[0:-1]\n",
        "\n",
        "      pred_list.append(item)\n",
        "\n",
        "  # print(len(pred_list))\n",
        "\n",
        "  task_name = ' '.join(target.split('_')[0:2])\n",
        "  print('{} {}'.format(task_name, t5.evaluation.metrics.accuracy(target_list,pred_list)))"
      ]
    },
    {
      "cell_type": "code",
      "execution_count": null,
      "metadata": {
        "colab": {
          "base_uri": "https://localhost:8080/"
        },
        "id": "7GmaJmOBg6xX",
        "outputId": "337ab74b-8d2f-48cc-8619-78c2263211c2"
      },
      "outputs": [
        {
          "name": "stdout",
          "output_type": "stream",
          "text": [
            "The path gs://finetuning-ag-row/pre-trained/operative_config.gin exists in Google Cloud Storage.\n"
          ]
        }
      ],
      "source": [
        "import subprocess\n",
        "\n",
        "def is_path_exists_gsutil(gcs_path):\n",
        "    # Run gsutil ls command to check if the path exists\n",
        "    try:\n",
        "        subprocess.check_output([\"gsutil\", \"ls\", gcs_path])\n",
        "        return True\n",
        "    except subprocess.CalledProcessError as e:\n",
        "        # The gsutil ls command returns a non-zero exit code if the path doesn't exist\n",
        "        return False\n",
        "\n",
        "gcs_path = 'gs://finetuning-ag-row/pre-trained/operative_config.gin'\n",
        "if is_path_exists_gsutil(gcs_path):\n",
        "    print(f'The path {gcs_path} exists in Google Cloud Storage.')\n",
        "else:\n",
        "    print(f'The path {gcs_path} does not exist in Google Cloud Storage.')"
      ]
    },
    {
      "cell_type": "code",
      "execution_count": null,
      "metadata": {
        "id": "fTr15bwE6YY-"
      },
      "outputs": [],
      "source": [
        "if ON_CLOUD:\n",
        "  %reload_ext tensorboard\n",
        "  import tensorboard as tb\n",
        "tb.notebook.start(\"--logdir \" + MODEL_DIR)"
      ]
    },
    {
      "cell_type": "code",
      "execution_count": null,
      "metadata": {
        "id": "CXJgHKbT5xOU"
      },
      "outputs": [],
      "source": []
    },
    {
      "cell_type": "code",
      "execution_count": null,
      "metadata": {
        "id": "bBXTPr0ke04I"
      },
      "outputs": [],
      "source": []
    }
  ],
  "metadata": {
    "accelerator": "TPU",
    "colab": {
      "provenance": []
    },
    "kernelspec": {
      "display_name": "Python 3",
      "name": "python3"
    },
    "language_info": {
      "codemirror_mode": {
        "name": "ipython",
        "version": 3
      },
      "file_extension": ".py",
      "mimetype": "text/x-python",
      "name": "python",
      "nbconvert_exporter": "python",
      "pygments_lexer": "ipython3",
      "version": "3.8.3"
    }
  },
  "nbformat": 4,
  "nbformat_minor": 0
}